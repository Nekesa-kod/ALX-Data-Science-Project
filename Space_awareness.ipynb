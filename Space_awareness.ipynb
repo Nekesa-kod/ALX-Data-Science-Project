{
  "cells": [
    {
      "cell_type": "markdown",
      "metadata": {
        "id": "view-in-github",
        "colab_type": "text"
      },
      "source": [
        "<a href=\"https://colab.research.google.com/github/Nekesa-kod/ALX-Data-Science-Project/blob/main/Space_awareness.ipynb\" target=\"_parent\"><img src=\"https://colab.research.google.com/assets/colab-badge.svg\" alt=\"Open In Colab\"/></a>"
      ]
    },
    {
      "cell_type": "code",
      "execution_count": 29,
      "metadata": {
        "id": "lopIITCIkHr8"
      },
      "outputs": [],
      "source": [
        "import numpy as np\n",
        "import pandas as pd\n",
        "import matplotlib.pyplot as plt\n",
        "import seaborn as sns\n",
        "\n",
        "from sklearn.model_selection import train_test_split\n",
        "from sklearn.preprocessing import StandardScaler\n",
        "from sklearn.metrics import classification_report, confusion_matrix, accuracy_score\n",
        "from sklearn.ensemble import RandomForestClassifier, GradientBoostingClassifier\n",
        "from sklearn.decomposition import PCA\n",
        "\n",
        "import warnings\n",
        "warnings.filterwarnings('ignore')\n",
        "\n"
      ]
    },
    {
      "cell_type": "markdown",
      "metadata": {
        "id": "oYpnjHFkq-7D"
      },
      "source": [
        "Two-line elements(TLEs) is a standardised format used to describe the orbit of a satellite. They consist of a set of data that includes important orbital parameters, such as the satellite's position, velocity, and other relevant information at a specific time.\n",
        "\n",
        "Using SGP4 propagation, we can compute the satellite’s position and velocity at any time.\n"
      ]
    },
    {
      "cell_type": "code",
      "execution_count": null,
      "metadata": {
        "colab": {
          "base_uri": "https://localhost:8080/"
        },
        "id": "g-ZJDb3dki_Y",
        "outputId": "6e52f800-28bb-4bd7-95a7-9ac12acd6221"
      },
      "outputs": [
        {
          "name": "stdout",
          "output_type": "stream",
          "text": [
            "Collecting sgp4\n",
            "  Downloading sgp4-2.25-cp312-cp312-manylinux_2_5_x86_64.manylinux1_x86_64.manylinux_2_17_x86_64.manylinux2014_x86_64.whl.metadata (33 kB)\n",
            "Downloading sgp4-2.25-cp312-cp312-manylinux_2_5_x86_64.manylinux1_x86_64.manylinux_2_17_x86_64.manylinux2014_x86_64.whl (235 kB)\n",
            "\u001b[2K   \u001b[90m━━━━━━━━━━━━━━━━━━━━━━━━━━━━━━━━━━━━━━━━\u001b[0m \u001b[32m235.7/235.7 kB\u001b[0m \u001b[31m7.4 MB/s\u001b[0m eta \u001b[36m0:00:00\u001b[0m\n",
            "\u001b[?25hInstalling collected packages: sgp4\n",
            "Successfully installed sgp4-2.25\n"
          ]
        }
      ],
      "source": [
        "#pip install sgp4"
      ]
    },
    {
      "cell_type": "markdown",
      "metadata": {
        "id": "GyQ-uxTxDooC"
      },
      "source": [
        "The dataset is a collection of Conjunction Data Messages (CDMs) received by ESA from 2015 to 2019. The CDMs have been anonymised for distribution. The initial raw data, as well as the labels that were kept private during the competition, are also released.\n",
        "ESA thanks the US Space Surveillance Network for the provision of surveillance data supporting safe operations of ESA’s spacecraft. In addition, we are grateful to the agreement which allows to publicly release the current dataset.\n",
        "\n",
        "The dataset is represented as a table, where each row corresponds to a single CDM, and each CDM contains 103 recorded characteristics/features. There are thus 103 columns, which are described in the competition pages. The dataset is made of several unique collision/close approach events, which are identified in the event_id column. In turn, each collision event is made of several CDMs recorded over time. Therefore, a single collision event can be thought of as a times series of CDMs. From these CDMs, for every collision event, we are interested in predicting the final risk which is computed in the last CDM of the time series (i.e. the risk value in the last row of each collision event)."
      ]
    },
    {
      "cell_type": "code",
      "execution_count": 40,
      "metadata": {
        "colab": {
          "base_uri": "https://localhost:8080/"
        },
        "id": "B9kLEjKalVTz",
        "outputId": "763d8729-57a2-4c17-c9d6-c0db584d461a"
      },
      "outputs": [
        {
          "output_type": "stream",
          "name": "stdout",
          "text": [
            "Training Data Shape: (162634, 103)\n",
            "Testing Data Shape: (24484, 103)\n"
          ]
        }
      ],
      "source": [
        "train_df = pd.read_csv('/content/train_data.zip')\n",
        "test_df = pd.read_csv('/content/test_data.csv')\n",
        "print(\"Training Data Shape:\", train_df.shape)\n",
        "print(\"Testing Data Shape:\", test_df.shape)"
      ]
    },
    {
      "cell_type": "markdown",
      "metadata": {
        "id": "AxZf3UElSoqq"
      },
      "source": [
        "The dataset is a collection of Conjunction Data Messages (CDMs) received by ESA from 2015 to 2019. The CDMs have been anonymised for distribution. The initial raw data, as well as the labels that were kept private during the competition, are also released.\n",
        "ESA thanks the US Space Surveillance Network for the provision of surveillance data supporting safe operations of ESA’s spacecraft. In addition, we are grateful to the agreement which allows to publicly release the current dataset.\n",
        "\n",
        "The dataset is represented as a table, where each row corresponds to a single CDM, and each CDM contains 103 recorded characteristics/features. The dataset is made of several unique collision/close approach events, which are identified in the event_id column. In turn, each collision event is made of several CDMs recorded over time. Therefore, a single collision event can be thought of as a times series of CDMs. From these CDMs, for every collision event, we are interested in predicting the final risk which is computed in the last CDM of the time series (i.e. the risk value in the last row of each collision event)."
      ]
    },
    {
      "cell_type": "markdown",
      "source": [
        "#Data Exploration and preparation.\n"
      ],
      "metadata": {
        "id": "1T2R_X1ZN6CS"
      }
    },
    {
      "cell_type": "code",
      "source": [
        "test_df.head()"
      ],
      "metadata": {
        "colab": {
          "base_uri": "https://localhost:8080/",
          "height": 255
        },
        "id": "F04NG6v_Nbcy",
        "outputId": "6d96de72-6299-444d-c173-2a2571875d66"
      },
      "execution_count": 66,
      "outputs": [
        {
          "output_type": "execute_result",
          "data": {
            "text/plain": [
              "   event_id  time_to_tca  mission_id      risk  max_risk_estimate  \\\n",
              "0         0     6.842095          19 -7.296967          -7.208941   \n",
              "1         0     6.571818          19 -7.282496          -7.199833   \n",
              "2         0     6.112986          19 -7.316053          -7.217886   \n",
              "3         0     5.921955          19 -7.334138          -7.228707   \n",
              "4         0     2.228761          19 -7.332267          -7.227312   \n",
              "\n",
              "   max_risk_scaling  miss_distance  relative_speed  relative_position_r  \\\n",
              "0          1.787894        31816.0          7929.0               -365.5   \n",
              "1          1.759386        31095.0          7929.0               -361.8   \n",
              "2          1.824263        32202.0          7929.0               -370.7   \n",
              "3          1.865396        32878.0          7929.0               -376.3   \n",
              "4          1.863127        32792.0          7929.0               -375.6   \n",
              "\n",
              "   relative_position_t  ...  t_sigma_rdot  c_sigma_rdot  t_sigma_tdot  \\\n",
              "0              26967.0  ...      0.371943     29.669476      0.007763   \n",
              "1              26356.6  ...      0.364986     29.460828      0.007762   \n",
              "2              27294.4  ...      0.303518     29.747208      0.008190   \n",
              "3              27867.5  ...      0.295359     29.926660      0.007698   \n",
              "4              27793.8  ...      0.056579     29.845809      0.006125   \n",
              "\n",
              "   c_sigma_tdot  t_sigma_ndot  c_sigma_ndot   F10   F3M   SSN    AP  \n",
              "0      0.223996      0.011833      1.375099  76.0  74.0  29.0  11.0  \n",
              "1      0.223983      0.011833      1.375117  75.0  74.0  24.0   9.0  \n",
              "2      0.223999      0.010530      1.375092  75.0  74.0  24.0   9.0  \n",
              "3      0.224004      0.010449      1.375077  75.0  74.0  24.0   9.0  \n",
              "4      0.224004      0.007821      1.375085  71.0  73.0   0.0   4.0  \n",
              "\n",
              "[5 rows x 103 columns]"
            ],
            "text/html": [
              "\n",
              "  <div id=\"df-ac44de14-35f9-485d-8d48-f2176bd303c9\" class=\"colab-df-container\">\n",
              "    <div>\n",
              "<style scoped>\n",
              "    .dataframe tbody tr th:only-of-type {\n",
              "        vertical-align: middle;\n",
              "    }\n",
              "\n",
              "    .dataframe tbody tr th {\n",
              "        vertical-align: top;\n",
              "    }\n",
              "\n",
              "    .dataframe thead th {\n",
              "        text-align: right;\n",
              "    }\n",
              "</style>\n",
              "<table border=\"1\" class=\"dataframe\">\n",
              "  <thead>\n",
              "    <tr style=\"text-align: right;\">\n",
              "      <th></th>\n",
              "      <th>event_id</th>\n",
              "      <th>time_to_tca</th>\n",
              "      <th>mission_id</th>\n",
              "      <th>risk</th>\n",
              "      <th>max_risk_estimate</th>\n",
              "      <th>max_risk_scaling</th>\n",
              "      <th>miss_distance</th>\n",
              "      <th>relative_speed</th>\n",
              "      <th>relative_position_r</th>\n",
              "      <th>relative_position_t</th>\n",
              "      <th>...</th>\n",
              "      <th>t_sigma_rdot</th>\n",
              "      <th>c_sigma_rdot</th>\n",
              "      <th>t_sigma_tdot</th>\n",
              "      <th>c_sigma_tdot</th>\n",
              "      <th>t_sigma_ndot</th>\n",
              "      <th>c_sigma_ndot</th>\n",
              "      <th>F10</th>\n",
              "      <th>F3M</th>\n",
              "      <th>SSN</th>\n",
              "      <th>AP</th>\n",
              "    </tr>\n",
              "  </thead>\n",
              "  <tbody>\n",
              "    <tr>\n",
              "      <th>0</th>\n",
              "      <td>0</td>\n",
              "      <td>6.842095</td>\n",
              "      <td>19</td>\n",
              "      <td>-7.296967</td>\n",
              "      <td>-7.208941</td>\n",
              "      <td>1.787894</td>\n",
              "      <td>31816.0</td>\n",
              "      <td>7929.0</td>\n",
              "      <td>-365.5</td>\n",
              "      <td>26967.0</td>\n",
              "      <td>...</td>\n",
              "      <td>0.371943</td>\n",
              "      <td>29.669476</td>\n",
              "      <td>0.007763</td>\n",
              "      <td>0.223996</td>\n",
              "      <td>0.011833</td>\n",
              "      <td>1.375099</td>\n",
              "      <td>76.0</td>\n",
              "      <td>74.0</td>\n",
              "      <td>29.0</td>\n",
              "      <td>11.0</td>\n",
              "    </tr>\n",
              "    <tr>\n",
              "      <th>1</th>\n",
              "      <td>0</td>\n",
              "      <td>6.571818</td>\n",
              "      <td>19</td>\n",
              "      <td>-7.282496</td>\n",
              "      <td>-7.199833</td>\n",
              "      <td>1.759386</td>\n",
              "      <td>31095.0</td>\n",
              "      <td>7929.0</td>\n",
              "      <td>-361.8</td>\n",
              "      <td>26356.6</td>\n",
              "      <td>...</td>\n",
              "      <td>0.364986</td>\n",
              "      <td>29.460828</td>\n",
              "      <td>0.007762</td>\n",
              "      <td>0.223983</td>\n",
              "      <td>0.011833</td>\n",
              "      <td>1.375117</td>\n",
              "      <td>75.0</td>\n",
              "      <td>74.0</td>\n",
              "      <td>24.0</td>\n",
              "      <td>9.0</td>\n",
              "    </tr>\n",
              "    <tr>\n",
              "      <th>2</th>\n",
              "      <td>0</td>\n",
              "      <td>6.112986</td>\n",
              "      <td>19</td>\n",
              "      <td>-7.316053</td>\n",
              "      <td>-7.217886</td>\n",
              "      <td>1.824263</td>\n",
              "      <td>32202.0</td>\n",
              "      <td>7929.0</td>\n",
              "      <td>-370.7</td>\n",
              "      <td>27294.4</td>\n",
              "      <td>...</td>\n",
              "      <td>0.303518</td>\n",
              "      <td>29.747208</td>\n",
              "      <td>0.008190</td>\n",
              "      <td>0.223999</td>\n",
              "      <td>0.010530</td>\n",
              "      <td>1.375092</td>\n",
              "      <td>75.0</td>\n",
              "      <td>74.0</td>\n",
              "      <td>24.0</td>\n",
              "      <td>9.0</td>\n",
              "    </tr>\n",
              "    <tr>\n",
              "      <th>3</th>\n",
              "      <td>0</td>\n",
              "      <td>5.921955</td>\n",
              "      <td>19</td>\n",
              "      <td>-7.334138</td>\n",
              "      <td>-7.228707</td>\n",
              "      <td>1.865396</td>\n",
              "      <td>32878.0</td>\n",
              "      <td>7929.0</td>\n",
              "      <td>-376.3</td>\n",
              "      <td>27867.5</td>\n",
              "      <td>...</td>\n",
              "      <td>0.295359</td>\n",
              "      <td>29.926660</td>\n",
              "      <td>0.007698</td>\n",
              "      <td>0.224004</td>\n",
              "      <td>0.010449</td>\n",
              "      <td>1.375077</td>\n",
              "      <td>75.0</td>\n",
              "      <td>74.0</td>\n",
              "      <td>24.0</td>\n",
              "      <td>9.0</td>\n",
              "    </tr>\n",
              "    <tr>\n",
              "      <th>4</th>\n",
              "      <td>0</td>\n",
              "      <td>2.228761</td>\n",
              "      <td>19</td>\n",
              "      <td>-7.332267</td>\n",
              "      <td>-7.227312</td>\n",
              "      <td>1.863127</td>\n",
              "      <td>32792.0</td>\n",
              "      <td>7929.0</td>\n",
              "      <td>-375.6</td>\n",
              "      <td>27793.8</td>\n",
              "      <td>...</td>\n",
              "      <td>0.056579</td>\n",
              "      <td>29.845809</td>\n",
              "      <td>0.006125</td>\n",
              "      <td>0.224004</td>\n",
              "      <td>0.007821</td>\n",
              "      <td>1.375085</td>\n",
              "      <td>71.0</td>\n",
              "      <td>73.0</td>\n",
              "      <td>0.0</td>\n",
              "      <td>4.0</td>\n",
              "    </tr>\n",
              "  </tbody>\n",
              "</table>\n",
              "<p>5 rows × 103 columns</p>\n",
              "</div>\n",
              "    <div class=\"colab-df-buttons\">\n",
              "\n",
              "  <div class=\"colab-df-container\">\n",
              "    <button class=\"colab-df-convert\" onclick=\"convertToInteractive('df-ac44de14-35f9-485d-8d48-f2176bd303c9')\"\n",
              "            title=\"Convert this dataframe to an interactive table.\"\n",
              "            style=\"display:none;\">\n",
              "\n",
              "  <svg xmlns=\"http://www.w3.org/2000/svg\" height=\"24px\" viewBox=\"0 -960 960 960\">\n",
              "    <path d=\"M120-120v-720h720v720H120Zm60-500h600v-160H180v160Zm220 220h160v-160H400v160Zm0 220h160v-160H400v160ZM180-400h160v-160H180v160Zm440 0h160v-160H620v160ZM180-180h160v-160H180v160Zm440 0h160v-160H620v160Z\"/>\n",
              "  </svg>\n",
              "    </button>\n",
              "\n",
              "  <style>\n",
              "    .colab-df-container {\n",
              "      display:flex;\n",
              "      gap: 12px;\n",
              "    }\n",
              "\n",
              "    .colab-df-convert {\n",
              "      background-color: #E8F0FE;\n",
              "      border: none;\n",
              "      border-radius: 50%;\n",
              "      cursor: pointer;\n",
              "      display: none;\n",
              "      fill: #1967D2;\n",
              "      height: 32px;\n",
              "      padding: 0 0 0 0;\n",
              "      width: 32px;\n",
              "    }\n",
              "\n",
              "    .colab-df-convert:hover {\n",
              "      background-color: #E2EBFA;\n",
              "      box-shadow: 0px 1px 2px rgba(60, 64, 67, 0.3), 0px 1px 3px 1px rgba(60, 64, 67, 0.15);\n",
              "      fill: #174EA6;\n",
              "    }\n",
              "\n",
              "    .colab-df-buttons div {\n",
              "      margin-bottom: 4px;\n",
              "    }\n",
              "\n",
              "    [theme=dark] .colab-df-convert {\n",
              "      background-color: #3B4455;\n",
              "      fill: #D2E3FC;\n",
              "    }\n",
              "\n",
              "    [theme=dark] .colab-df-convert:hover {\n",
              "      background-color: #434B5C;\n",
              "      box-shadow: 0px 1px 3px 1px rgba(0, 0, 0, 0.15);\n",
              "      filter: drop-shadow(0px 1px 2px rgba(0, 0, 0, 0.3));\n",
              "      fill: #FFFFFF;\n",
              "    }\n",
              "  </style>\n",
              "\n",
              "    <script>\n",
              "      const buttonEl =\n",
              "        document.querySelector('#df-ac44de14-35f9-485d-8d48-f2176bd303c9 button.colab-df-convert');\n",
              "      buttonEl.style.display =\n",
              "        google.colab.kernel.accessAllowed ? 'block' : 'none';\n",
              "\n",
              "      async function convertToInteractive(key) {\n",
              "        const element = document.querySelector('#df-ac44de14-35f9-485d-8d48-f2176bd303c9');\n",
              "        const dataTable =\n",
              "          await google.colab.kernel.invokeFunction('convertToInteractive',\n",
              "                                                    [key], {});\n",
              "        if (!dataTable) return;\n",
              "\n",
              "        const docLinkHtml = 'Like what you see? Visit the ' +\n",
              "          '<a target=\"_blank\" href=https://colab.research.google.com/notebooks/data_table.ipynb>data table notebook</a>'\n",
              "          + ' to learn more about interactive tables.';\n",
              "        element.innerHTML = '';\n",
              "        dataTable['output_type'] = 'display_data';\n",
              "        await google.colab.output.renderOutput(dataTable, element);\n",
              "        const docLink = document.createElement('div');\n",
              "        docLink.innerHTML = docLinkHtml;\n",
              "        element.appendChild(docLink);\n",
              "      }\n",
              "    </script>\n",
              "  </div>\n",
              "\n",
              "\n",
              "    <div id=\"df-cb12d10d-11ba-4b93-aba2-d060616ebeaa\">\n",
              "      <button class=\"colab-df-quickchart\" onclick=\"quickchart('df-cb12d10d-11ba-4b93-aba2-d060616ebeaa')\"\n",
              "                title=\"Suggest charts\"\n",
              "                style=\"display:none;\">\n",
              "\n",
              "<svg xmlns=\"http://www.w3.org/2000/svg\" height=\"24px\"viewBox=\"0 0 24 24\"\n",
              "     width=\"24px\">\n",
              "    <g>\n",
              "        <path d=\"M19 3H5c-1.1 0-2 .9-2 2v14c0 1.1.9 2 2 2h14c1.1 0 2-.9 2-2V5c0-1.1-.9-2-2-2zM9 17H7v-7h2v7zm4 0h-2V7h2v10zm4 0h-2v-4h2v4z\"/>\n",
              "    </g>\n",
              "</svg>\n",
              "      </button>\n",
              "\n",
              "<style>\n",
              "  .colab-df-quickchart {\n",
              "      --bg-color: #E8F0FE;\n",
              "      --fill-color: #1967D2;\n",
              "      --hover-bg-color: #E2EBFA;\n",
              "      --hover-fill-color: #174EA6;\n",
              "      --disabled-fill-color: #AAA;\n",
              "      --disabled-bg-color: #DDD;\n",
              "  }\n",
              "\n",
              "  [theme=dark] .colab-df-quickchart {\n",
              "      --bg-color: #3B4455;\n",
              "      --fill-color: #D2E3FC;\n",
              "      --hover-bg-color: #434B5C;\n",
              "      --hover-fill-color: #FFFFFF;\n",
              "      --disabled-bg-color: #3B4455;\n",
              "      --disabled-fill-color: #666;\n",
              "  }\n",
              "\n",
              "  .colab-df-quickchart {\n",
              "    background-color: var(--bg-color);\n",
              "    border: none;\n",
              "    border-radius: 50%;\n",
              "    cursor: pointer;\n",
              "    display: none;\n",
              "    fill: var(--fill-color);\n",
              "    height: 32px;\n",
              "    padding: 0;\n",
              "    width: 32px;\n",
              "  }\n",
              "\n",
              "  .colab-df-quickchart:hover {\n",
              "    background-color: var(--hover-bg-color);\n",
              "    box-shadow: 0 1px 2px rgba(60, 64, 67, 0.3), 0 1px 3px 1px rgba(60, 64, 67, 0.15);\n",
              "    fill: var(--button-hover-fill-color);\n",
              "  }\n",
              "\n",
              "  .colab-df-quickchart-complete:disabled,\n",
              "  .colab-df-quickchart-complete:disabled:hover {\n",
              "    background-color: var(--disabled-bg-color);\n",
              "    fill: var(--disabled-fill-color);\n",
              "    box-shadow: none;\n",
              "  }\n",
              "\n",
              "  .colab-df-spinner {\n",
              "    border: 2px solid var(--fill-color);\n",
              "    border-color: transparent;\n",
              "    border-bottom-color: var(--fill-color);\n",
              "    animation:\n",
              "      spin 1s steps(1) infinite;\n",
              "  }\n",
              "\n",
              "  @keyframes spin {\n",
              "    0% {\n",
              "      border-color: transparent;\n",
              "      border-bottom-color: var(--fill-color);\n",
              "      border-left-color: var(--fill-color);\n",
              "    }\n",
              "    20% {\n",
              "      border-color: transparent;\n",
              "      border-left-color: var(--fill-color);\n",
              "      border-top-color: var(--fill-color);\n",
              "    }\n",
              "    30% {\n",
              "      border-color: transparent;\n",
              "      border-left-color: var(--fill-color);\n",
              "      border-top-color: var(--fill-color);\n",
              "      border-right-color: var(--fill-color);\n",
              "    }\n",
              "    40% {\n",
              "      border-color: transparent;\n",
              "      border-right-color: var(--fill-color);\n",
              "      border-top-color: var(--fill-color);\n",
              "    }\n",
              "    60% {\n",
              "      border-color: transparent;\n",
              "      border-right-color: var(--fill-color);\n",
              "    }\n",
              "    80% {\n",
              "      border-color: transparent;\n",
              "      border-right-color: var(--fill-color);\n",
              "      border-bottom-color: var(--fill-color);\n",
              "    }\n",
              "    90% {\n",
              "      border-color: transparent;\n",
              "      border-bottom-color: var(--fill-color);\n",
              "    }\n",
              "  }\n",
              "</style>\n",
              "\n",
              "      <script>\n",
              "        async function quickchart(key) {\n",
              "          const quickchartButtonEl =\n",
              "            document.querySelector('#' + key + ' button');\n",
              "          quickchartButtonEl.disabled = true;  // To prevent multiple clicks.\n",
              "          quickchartButtonEl.classList.add('colab-df-spinner');\n",
              "          try {\n",
              "            const charts = await google.colab.kernel.invokeFunction(\n",
              "                'suggestCharts', [key], {});\n",
              "          } catch (error) {\n",
              "            console.error('Error during call to suggestCharts:', error);\n",
              "          }\n",
              "          quickchartButtonEl.classList.remove('colab-df-spinner');\n",
              "          quickchartButtonEl.classList.add('colab-df-quickchart-complete');\n",
              "        }\n",
              "        (() => {\n",
              "          let quickchartButtonEl =\n",
              "            document.querySelector('#df-cb12d10d-11ba-4b93-aba2-d060616ebeaa button');\n",
              "          quickchartButtonEl.style.display =\n",
              "            google.colab.kernel.accessAllowed ? 'block' : 'none';\n",
              "        })();\n",
              "      </script>\n",
              "    </div>\n",
              "\n",
              "    </div>\n",
              "  </div>\n"
            ],
            "application/vnd.google.colaboratory.intrinsic+json": {
              "type": "dataframe",
              "variable_name": "test_df"
            }
          },
          "metadata": {},
          "execution_count": 66
        }
      ]
    },
    {
      "cell_type": "code",
      "execution_count": 41,
      "metadata": {
        "colab": {
          "base_uri": "https://localhost:8080/"
        },
        "id": "pN9JUvslXPiI",
        "outputId": "8f253ed6-67c5-42ae-c1da-2c8cee5ad334"
      },
      "outputs": [
        {
          "output_type": "execute_result",
          "data": {
            "text/plain": [
              "50"
            ]
          },
          "metadata": {},
          "execution_count": 41
        }
      ],
      "source": [
        "missing_values = train_df.isnull().sum().sort_values(ascending=False)\n",
        "missing_values = missing_values[missing_values > 0]\n",
        "#print(missing_values)\n",
        "len(missing_values)"
      ]
    },
    {
      "cell_type": "markdown",
      "source": [
        "Out of 103 columns, we have 50 columns with missing values as stated above."
      ],
      "metadata": {
        "id": "_kymWnfwdkjQ"
      }
    },
    {
      "cell_type": "code",
      "source": [
        "#removing low variance features\n",
        "from sklearn.feature_selection import VarianceThreshold\n",
        "\n",
        "# Drop the non-numeric column 'c_object_type'\n",
        "if 'c_object_type' in train_df.columns:\n",
        "    train_df_numeric = train_df.drop(columns=['c_object_type'])\n",
        "else:\n",
        "    train_df_numeric = train_df.copy()\n",
        "\n",
        "selector = VarianceThreshold(threshold=0.01)  # keep features with variance > 0.01\n",
        "reduced_data = selector.fit_transform(train_df_numeric.fillna(0))\n",
        "train_df_reduced = pd.DataFrame(reduced_data, columns=train_df_numeric.columns[selector.get_support()])\n",
        "train_df_reduced.drop(columns=['risk'], inplace=True)\n",
        "train_df_reduced.shape"
      ],
      "metadata": {
        "colab": {
          "base_uri": "https://localhost:8080/"
        },
        "id": "4ooNA0Fun68h",
        "outputId": "e785bea1-7ef2-40dd-bca2-8933603bd44d"
      },
      "execution_count": 42,
      "outputs": [
        {
          "output_type": "execute_result",
          "data": {
            "text/plain": [
              "(162634, 90)"
            ]
          },
          "metadata": {},
          "execution_count": 42
        }
      ]
    },
    {
      "cell_type": "code",
      "source": [
        "#using correlation to reduce redundancy\n",
        "corr_matrix = train_df_reduced.corr().abs()\n",
        "upper = corr_matrix.where(np.triu(np.ones(corr_matrix.shape), k=1).astype(bool))\n",
        "\n",
        "to_drop = [column for column in upper.columns if any(upper[column] > 0.9)]\n",
        "train_df_reduced = train_df_reduced.drop(to_drop, axis=1)\n",
        "train_df_reduced.shape"
      ],
      "metadata": {
        "colab": {
          "base_uri": "https://localhost:8080/"
        },
        "id": "NSMfVHVLqg43",
        "outputId": "1694354d-5f29-4ebe-f39a-154bd2fb0675"
      },
      "execution_count": 43,
      "outputs": [
        {
          "output_type": "execute_result",
          "data": {
            "text/plain": [
              "(162634, 62)"
            ]
          },
          "metadata": {},
          "execution_count": 43
        }
      ]
    },
    {
      "cell_type": "code",
      "source": [
        "#using Principal Component Analysis (PCA) to compress 103 features into fewer synthetic ones\n",
        " #(e.g., 10–20) that capture most of the variance.\n",
        "\n",
        "scaler = StandardScaler()\n",
        "X_scaled = scaler.fit_transform(train_df_reduced.fillna(0))\n",
        "\n",
        "pca = PCA(n_components=20)  # reduce to 20 features\n",
        "X_pca = pca.fit_transform(X_scaled)\n",
        "\n",
        "X_pca_df = pd.DataFrame(X_pca, columns=[f'PC{i+1}' for i in range(20)])\n",
        "X_pca_df.shape"
      ],
      "metadata": {
        "colab": {
          "base_uri": "https://localhost:8080/"
        },
        "id": "v64_alkLoUoW",
        "outputId": "a4b925eb-1cc2-4653-de2b-62f64c989c9b"
      },
      "execution_count": 44,
      "outputs": [
        {
          "output_type": "execute_result",
          "data": {
            "text/plain": [
              "(162634, 20)"
            ]
          },
          "metadata": {},
          "execution_count": 44
        }
      ]
    },
    {
      "cell_type": "markdown",
      "source": [
        "Your new dataset has 20 compressed features (PC1 … PC20) + your risk column(to be added back to the dataset). Each PC is a linear combination of our original features (so the information is still there, but compressed)\n",
        "\n",
        "Our target variable, 'Risk' is however nor part of it. Next we will use a heatmap to show correlation between features."
      ],
      "metadata": {
        "id": "EwDB7UInti7P"
      }
    },
    {
      "cell_type": "code",
      "execution_count": 45,
      "metadata": {
        "colab": {
          "base_uri": "https://localhost:8080/"
        },
        "collapsed": true,
        "id": "UbMwgPqTmEBU",
        "outputId": "7afbdd32-2eb5-42b3-daa0-5165eab3528c"
      },
      "outputs": [
        {
          "output_type": "execute_result",
          "data": {
            "text/plain": [
              "(162634, 21)"
            ]
          },
          "metadata": {},
          "execution_count": 45
        }
      ],
      "source": [
        "# Add the 'risk' column back to the PCA DataFrame\n",
        "X_pca_df['risk'] = train_df['risk']\n",
        "X_pca_df.shape"
      ]
    },
    {
      "cell_type": "markdown",
      "source": [
        "#Heatmap\n",
        "This is neccessary for optimizing variable selection by checking corelation between features."
      ],
      "metadata": {
        "id": "hkowzrZOl4io"
      }
    },
    {
      "cell_type": "code",
      "source": [
        "import seaborn as sns\n",
        "import matplotlib.pyplot as plt\n",
        "\n",
        "# Example: heatmap of correlation of top 20 features\n",
        "top_features = X_pca_df.corr().abs().nlargest(20, \"risk\").index  # replace 'target' with your y column\n",
        "sns.heatmap(X_pca_df[top_features].corr(), annot=False, cmap=\"coolwarm\")\n",
        "plt.show()"
      ],
      "metadata": {
        "colab": {
          "base_uri": "https://localhost:8080/",
          "height": 457
        },
        "id": "hmYuep-kt37t",
        "outputId": "f5d60602-1cd7-4eee-d1dd-fe8609235223"
      },
      "execution_count": 36,
      "outputs": [
        {
          "output_type": "display_data",
          "data": {
            "text/plain": [
              "<Figure size 640x480 with 2 Axes>"
            ],
            "image/png": "[encoded data removed]"
          },
          "metadata": {}
        }
      ]
    },
    {
      "cell_type": "markdown",
      "source": [
        "The diagonal red = self-correlation (always 1).\n",
        "\n",
        "The mostly blue background between PCs = low correlation → meaning PCA has successfully produced uncorrelated features (that’s its job).\n",
        "\n",
        "The correlation of risk with the PCs (top row/first column) shows which principal components have some relationship with our target."
      ],
      "metadata": {
        "id": "3tFDrT6xOPJL"
      }
    },
    {
      "cell_type": "code",
      "execution_count": 48,
      "metadata": {
        "id": "_9CZDEnnkvIC",
        "colab": {
          "base_uri": "https://localhost:8080/"
        },
        "outputId": "63b9d1fc-aa44-44ff-f502-a7f50c710121"
      },
      "outputs": [
        {
          "output_type": "execute_result",
          "data": {
            "text/plain": [
              "(24484, 21)"
            ]
          },
          "metadata": {},
          "execution_count": 48
        }
      ],
      "source": [
        "# Prep the test set\n",
        "# --- Test data processing ---\n",
        "\n",
        "# Drop the non-numeric column 'c_object_type'\n",
        "if 'c_object_type' in test_df.columns:\n",
        "    test_df_numeric = test_df.drop(columns=['c_object_type'])\n",
        "else:\n",
        "    test_df_numeric = test_df.copy()\n",
        "\n",
        "# Apply the same variance threshold (using selector fitted on train)\n",
        "reduced_test = selector.transform(test_df_numeric.fillna(0))\n",
        "test_df_reduced = pd.DataFrame(reduced_test, columns=train_df_numeric.columns[selector.get_support()])\n",
        "\n",
        "# Drop target column if it exists (risk)\n",
        "if 'risk' in test_df_reduced.columns:\n",
        "    test_df_reduced = test_df_reduced.drop(columns=['risk'])\n",
        "\n",
        "# Drop the same correlated columns as train (using to_drop list from train)\n",
        "test_df_reduced = test_df_reduced.drop(columns=[col for col in to_drop if col in test_df_reduced.columns])\n",
        "\n",
        "# Scale using scaler fitted on train\n",
        "X_test_scaled = scaler.transform(test_df_reduced.fillna(0))\n",
        "\n",
        "# PCA using pca fitted on train\n",
        "X_test_pca = pca.transform(X_test_scaled)\n",
        "\n",
        "# Final dataframe\n",
        "X_test_pca_df = pd.DataFrame(X_test_pca, columns=[f'PC{i+1}' for i in range(20)])\n",
        "\n",
        "# Add risk column back (if available in test data)\n",
        "if 'risk' in test_df.columns:\n",
        "    X_test_pca_df['risk'] = test_df['risk'].values\n",
        "\n",
        "X_test_pca_df.shape\n"
      ]
    },
    {
      "cell_type": "markdown",
      "source": [
        "#Model Building\n",
        "\n",
        "*   Random Forest\n",
        "*   LGBM gradient boosting\n",
        "*   Logistic Regression\n",
        "\n"
      ],
      "metadata": {
        "id": "bO0Pf_99OlcS"
      }
    },
    {
      "cell_type": "code",
      "execution_count": 49,
      "metadata": {
        "id": "cvgtgLgkkvDc"
      },
      "outputs": [],
      "source": [
        "# Define Features & Target ===\n",
        "# ⚠️ Assumption: Let's assume 'risk' is the label (negative = low risk, higher = high risk).\n",
        "X = X_pca_df.drop(columns=[\"risk\"])   # Features\n",
        "y = (X_pca_df[\"risk\"] > -7.25).astype(int)\n",
        "# 👆 Example threshold: mark 1 = potential collision, 0 = safe\n",
        "X_train, X_val, y_train, y_val = train_test_split(\n",
        "    X,\n",
        "    y,\n",
        "    test_size=0.2,\n",
        "    random_state=42,\n",
        "    stratify=y\n",
        ")"
      ]
    },
    {
      "cell_type": "code",
      "execution_count": 52,
      "metadata": {
        "colab": {
          "base_uri": "https://localhost:8080/"
        },
        "id": "immfyu20kjQI",
        "outputId": "ac104de7-53ac-473f-ffed-2e48c62944de"
      },
      "outputs": [
        {
          "output_type": "stream",
          "name": "stdout",
          "text": [
            "\n",
            "Random Forest Performance on Validation:\n",
            "              precision    recall  f1-score   support\n",
            "\n",
            "           0       0.93      1.00      0.96     27693\n",
            "           1       0.97      0.58      0.72      4834\n",
            "\n",
            "    accuracy                           0.93     32527\n",
            "   macro avg       0.95      0.79      0.84     32527\n",
            "weighted avg       0.94      0.93      0.93     32527\n",
            "\n"
          ]
        }
      ],
      "source": [
        "# Baseline Model: Random Forest ===\n",
        "rf_model = RandomForestClassifier(\n",
        "    n_estimators=200,\n",
        "    random_state=42,\n",
        "    class_weight=\"balanced\")\n",
        "\n",
        "rf_model.fit(X_train, y_train)\n",
        "\n",
        "rf_val_preds = rf_model.predict(X_val)\n",
        "print(\"\\nRandom Forest Performance on Validation:\")\n",
        "print(classification_report(y_val, rf_val_preds))\n"
      ]
    },
    {
      "cell_type": "code",
      "source": [
        "#applying the modelon the test data\n",
        "X_test = X_test_pca_df.drop(columns=['risk'])\n",
        "y_test = (X_test_pca_df['risk'] > -7.25).astype(int)\n",
        "\n",
        "rf_test_preds = rf_model.predict(X_test)\n",
        "print(\"\\nRandom Forest Performance on Test:\")\n",
        "print(classification_report(y_test, rf_test_preds))"
      ],
      "metadata": {
        "colab": {
          "base_uri": "https://localhost:8080/"
        },
        "id": "RvSQLdKF181Y",
        "outputId": "9d06cd45-7ef2-4ac5-af9f-0301984978da"
      },
      "execution_count": 54,
      "outputs": [
        {
          "output_type": "stream",
          "name": "stdout",
          "text": [
            "\n",
            "Random Forest Performance on Test:\n",
            "              precision    recall  f1-score   support\n",
            "\n",
            "           0       0.79      0.99      0.87     18676\n",
            "           1       0.76      0.13      0.22      5808\n",
            "\n",
            "    accuracy                           0.78     24484\n",
            "   macro avg       0.77      0.56      0.55     24484\n",
            "weighted avg       0.78      0.78      0.72     24484\n",
            "\n"
          ]
        }
      ]
    },
    {
      "cell_type": "markdown",
      "source": [
        "The Random Forest achieved high recall (99%) for the majority class (0), but performed very poorly on the minority class (1), with only 13% recall. This indicates a strong bias towards the majority class due to class imbalance. Although the overall accuracy was 78%, the model fails to capture class 1 effectively, making it unreliable for applications where detecting the minority class is critical."
      ],
      "metadata": {
        "id": "PjtmB2Gr62C8"
      }
    },
    {
      "cell_type": "markdown",
      "source": [
        "#Gradient boosting using Lightgbm\n",
        "Above is our baseline model. We can improve it by tuning hyperparameters and using better evaluation.\n",
        "\n",
        "1. Tune key hyperparameters\n",
        "\n",
        "n_estimators → number of boosting rounds (more trees can help but risk overfitting).\n",
        "\n",
        "learning_rate → smaller values (e.g., 0.01–0.1) usually improve generalization but require more trees.\n",
        "\n",
        "max_depth → controls how deep each tree can grow (default is 3, try 2–6).\n",
        "\n",
        "subsample → fraction of samples used per tree (e.g., 0.8–0.9 helps regularize).\n",
        "\n",
        "max_features → number of features to consider per split (try \"sqrt\" or a fraction).\n",
        "\n",
        "2. Use GridSearchCV or RandomizedSearchCV\n",
        "\n",
        "This way, you search for the best parameter combo:"
      ],
      "metadata": {
        "id": "NPYhBTO34dA_"
      }
    },
    {
      "cell_type": "code",
      "source": [
        "import lightgbm as lgb\n",
        "\n",
        "lgb_model = lgb.LGBMClassifier(\n",
        "    n_estimators=500,\n",
        "    learning_rate=0.05,\n",
        "    max_depth=-1,\n",
        "    subsample=0.8,\n",
        "    colsample_bytree=0.8,\n",
        "    random_state=42\n",
        ")\n",
        "\n",
        "lgb_model.fit(X_train, y_train)\n",
        "lgb_preds = lgb_model.predict(X_test)\n",
        "\n",
        "print(classification_report(y_test, lgb_preds))\n"
      ],
      "metadata": {
        "colab": {
          "base_uri": "https://localhost:8080/"
        },
        "id": "Am1Le5E75iBB",
        "outputId": "528a7cfc-4a5d-4fd1-f2a6-8a857a1f3778"
      },
      "execution_count": 56,
      "outputs": [
        {
          "output_type": "stream",
          "name": "stdout",
          "text": [
            "[LightGBM] [Info] Number of positive: 19338, number of negative: 110769\n",
            "[LightGBM] [Info] Auto-choosing col-wise multi-threading, the overhead of testing was 0.027496 seconds.\n",
            "You can set `force_col_wise=true` to remove the overhead.\n",
            "[LightGBM] [Info] Total Bins 5100\n",
            "[LightGBM] [Info] Number of data points in the train set: 130107, number of used features: 20\n",
            "[LightGBM] [Info] [binary:BoostFromScore]: pavg=0.148632 -> initscore=-1.745375\n",
            "[LightGBM] [Info] Start training from score -1.745375\n",
            "              precision    recall  f1-score   support\n",
            "\n",
            "           0       0.84      0.96      0.89     18676\n",
            "           1       0.76      0.40      0.52      5808\n",
            "\n",
            "    accuracy                           0.83     24484\n",
            "   macro avg       0.80      0.68      0.71     24484\n",
            "weighted avg       0.82      0.83      0.81     24484\n",
            "\n"
          ]
        }
      ]
    },
    {
      "cell_type": "markdown",
      "source": [
        "📊 LGBM Performance\n",
        "\n",
        "Class 0 (majority class, ~18k samples)\n",
        "\n",
        "Precision = 0.84 → when the model predicts 0, 84% are correct.\n",
        "\n",
        "Recall = 0.96 → the model catches almost all the real 0’s.\n",
        "\n",
        "F1 = 0.89 → good balance, the model is strong here.\n",
        "\n",
        "Class 1 (minority class, ~5.8k samples)\n",
        "\n",
        "Precision = 0.76 → decent; when it predicts 1, it’s right 76% of the time.\n",
        "\n",
        "Recall = 0.40 → poor; it only finds 40% of the actual 1’s.\n",
        "\n",
        "F1 = 0.52 → weak overall because recall is low.\n",
        "\n",
        "Overall\n",
        "\n",
        "Accuracy = 0.83 → looks good but misleading, because it mostly comes from class 0.\n",
        "\n",
        "Macro avg F1 = 0.71 → tells the true story; the model struggles on class 1.\n",
        "\n",
        "Weighted avg F1 = 0.81 → okay, but still dragged down by poor recall on class 1."
      ],
      "metadata": {
        "id": "4ceUVHbV6miE"
      }
    },
    {
      "cell_type": "code",
      "source": [
        "#Add cross-validation\n",
        "#Instead of one split, do stratified k-fold CV to get more reliable results\n",
        "\n",
        "from sklearn.model_selection import cross_val_score\n",
        "\n",
        "cv_scores = cross_val_score(\n",
        "    lgb_model,\n",
        "    X_train,\n",
        "    y_train,\n",
        "    cv=5,\n",
        "    scoring='f1_macro'\n",
        ")\n",
        "\n",
        "print(\"Cross-validation F1 scores:\", cv_scores)\n",
        "print(\"Mean CV F1:\", cv_scores.mean())\n"
      ],
      "metadata": {
        "colab": {
          "base_uri": "https://localhost:8080/"
        },
        "id": "M9gHJMsm6JMV",
        "outputId": "295c6899-3290-4b8b-f5dd-05464535af7f"
      },
      "execution_count": 59,
      "outputs": [
        {
          "output_type": "stream",
          "name": "stdout",
          "text": [
            "[LightGBM] [Info] Number of positive: 15470, number of negative: 88615\n",
            "[LightGBM] [Info] Auto-choosing col-wise multi-threading, the overhead of testing was 0.022709 seconds.\n",
            "You can set `force_col_wise=true` to remove the overhead.\n",
            "[LightGBM] [Info] Total Bins 5100\n",
            "[LightGBM] [Info] Number of data points in the train set: 104085, number of used features: 20\n",
            "[LightGBM] [Info] [binary:BoostFromScore]: pavg=0.148629 -> initscore=-1.745398\n",
            "[LightGBM] [Info] Start training from score -1.745398\n",
            "[LightGBM] [Info] Number of positive: 15470, number of negative: 88615\n",
            "[LightGBM] [Info] Auto-choosing col-wise multi-threading, the overhead of testing was 0.022807 seconds.\n",
            "You can set `force_col_wise=true` to remove the overhead.\n",
            "[LightGBM] [Info] Total Bins 5100\n",
            "[LightGBM] [Info] Number of data points in the train set: 104085, number of used features: 20\n",
            "[LightGBM] [Info] [binary:BoostFromScore]: pavg=0.148629 -> initscore=-1.745398\n",
            "[LightGBM] [Info] Start training from score -1.745398\n",
            "[LightGBM] [Info] Number of positive: 15471, number of negative: 88615\n",
            "[LightGBM] [Info] Auto-choosing col-wise multi-threading, the overhead of testing was 0.023449 seconds.\n",
            "You can set `force_col_wise=true` to remove the overhead.\n",
            "[LightGBM] [Info] Total Bins 5100\n",
            "[LightGBM] [Info] Number of data points in the train set: 104086, number of used features: 20\n",
            "[LightGBM] [Info] [binary:BoostFromScore]: pavg=0.148637 -> initscore=-1.745334\n",
            "[LightGBM] [Info] Start training from score -1.745334\n",
            "[LightGBM] [Info] Number of positive: 15471, number of negative: 88615\n",
            "[LightGBM] [Info] Auto-choosing col-wise multi-threading, the overhead of testing was 0.030557 seconds.\n",
            "You can set `force_col_wise=true` to remove the overhead.\n",
            "[LightGBM] [Info] Total Bins 5100\n",
            "[LightGBM] [Info] Number of data points in the train set: 104086, number of used features: 20\n",
            "[LightGBM] [Info] [binary:BoostFromScore]: pavg=0.148637 -> initscore=-1.745334\n",
            "[LightGBM] [Info] Start training from score -1.745334\n",
            "[LightGBM] [Info] Number of positive: 15470, number of negative: 88616\n",
            "[LightGBM] [Info] Auto-choosing col-wise multi-threading, the overhead of testing was 0.023178 seconds.\n",
            "You can set `force_col_wise=true` to remove the overhead.\n",
            "[LightGBM] [Info] Total Bins 5100\n",
            "[LightGBM] [Info] Number of data points in the train set: 104086, number of used features: 20\n",
            "[LightGBM] [Info] [binary:BoostFromScore]: pavg=0.148627 -> initscore=-1.745410\n",
            "[LightGBM] [Info] Start training from score -1.745410\n",
            "Cross-validation F1 scores: [0.76609739 0.773905   0.7661619  0.76166486 0.76774431]\n",
            "Mean CV F1: 0.7671146922464158\n"
          ]
        }
      ]
    },
    {
      "cell_type": "markdown",
      "source": [
        "Cross-validation with 5 folds gave a mean F1 score of 0.767 with little variance across folds. This suggests the model is stable and generalizes reasonably well. However, the performance is still limited by class imbalance, as minority class recall remains low."
      ],
      "metadata": {
        "id": "tuUxBqw3-DHO"
      }
    },
    {
      "cell_type": "markdown",
      "source": [
        "#Logistic regression"
      ],
      "metadata": {
        "id": "WcUvCDRNBHxJ"
      }
    },
    {
      "cell_type": "code",
      "source": [
        "from sklearn.linear_model import LogisticRegression\n",
        "log_reg = LogisticRegression(\n",
        "    max_iter=1000,\n",
        "    class_weight=\"balanced\",\n",
        "    random_state=42\n",
        "    )\n",
        "log_reg.fit(X_train, y_train)\n",
        "lgb_preds = lgb_model.predict(X_test)\n",
        "\n",
        "print(classification_report(y_test, lgb_preds))\n"
      ],
      "metadata": {
        "colab": {
          "base_uri": "https://localhost:8080/"
        },
        "id": "QSnzyQ4uBIcv",
        "outputId": "d40bf7ff-0bd7-4af1-e073-d6ea1dced2e1"
      },
      "execution_count": 60,
      "outputs": [
        {
          "output_type": "stream",
          "name": "stdout",
          "text": [
            "              precision    recall  f1-score   support\n",
            "\n",
            "           0       0.84      0.96      0.89     18676\n",
            "           1       0.76      0.40      0.52      5808\n",
            "\n",
            "    accuracy                           0.83     24484\n",
            "   macro avg       0.80      0.68      0.71     24484\n",
            "weighted avg       0.82      0.83      0.81     24484\n",
            "\n"
          ]
        }
      ]
    },
    {
      "cell_type": "markdown",
      "source": [
        "🔹 What This Means:\n",
        "\n",
        "RF had great recall for class 0 but weak for class 1.\n",
        "\n",
        "LGBM was slightly better, but still biased.\n",
        "\n",
        "Logistic Regression adds diversity (linear vs tree-based).\n",
        "\n",
        "👉 This is exactly why ensembling makes sense here. The LR model brings a different decision boundary, and when combined with RF + LGBM in a VotingClassifier or StackingClassifier,"
      ],
      "metadata": {
        "id": "9gRpajylDeJu"
      }
    },
    {
      "cell_type": "markdown",
      "source": [
        "#Voting Classifier Ensemble"
      ],
      "metadata": {
        "id": "o8E96jFjDjk1"
      }
    },
    {
      "cell_type": "code",
      "source": [
        "from sklearn.ensemble import VotingClassifier\n",
        "from sklearn.linear_model import LogisticRegression\n",
        "from lightgbm import LGBMClassifier\n",
        "from sklearn.metrics import classification_report\n",
        "\n",
        "# === Define base models ===\n",
        "#rf_model = RandomForestClassifier(\n",
        "  #  n_estimators=200, random_state=42, class_weight=\"balanced\")\n",
        "\n",
        "#lgbm_model = LGBMClassifier(\n",
        "    #is_unbalance=True, random_state=42)\n",
        "\n",
        "#log_reg = LogisticRegression(\n",
        "  #  max_iter=1000, class_weight=\"balanced\", random_state=42)\n",
        "\n",
        "# === Voting Ensemble (soft voting averages probabilities) ===\n",
        "voting_clf = VotingClassifier(\n",
        "    estimators=[\n",
        "        ('rf', rf_model),\n",
        "        ('lgbm', lgb_model),\n",
        "        ('lr', log_reg)\n",
        "    ],\n",
        "    voting='soft',   # average probabilities instead of majority vote\n",
        "    n_jobs=-1\n",
        ")\n",
        "\n",
        "# === Train ensemble ===\n",
        "voting_clf.fit(X_train, y_train)\n",
        "\n",
        "# === Evaluate on validation/test set ===\n",
        "voting_preds = voting_clf.predict(X_test_pca)\n",
        "\n",
        "print(\"\\nVoting Ensemble Performance on Validation:\")\n",
        "print(classification_report(y_test, voting_preds))\n"
      ],
      "metadata": {
        "colab": {
          "base_uri": "https://localhost:8080/"
        },
        "id": "9vpQLwGWD6J7",
        "outputId": "886df092-a3f9-45b5-8c68-143c5c1d6bde"
      },
      "execution_count": 61,
      "outputs": [
        {
          "output_type": "stream",
          "name": "stdout",
          "text": [
            "\n",
            "Voting Ensemble Performance on Validation:\n",
            "              precision    recall  f1-score   support\n",
            "\n",
            "           0       0.86      0.92      0.89     18676\n",
            "           1       0.67      0.52      0.59      5808\n",
            "\n",
            "    accuracy                           0.83     24484\n",
            "   macro avg       0.76      0.72      0.74     24484\n",
            "weighted avg       0.82      0.83      0.82     24484\n",
            "\n"
          ]
        }
      ]
    },
    {
      "cell_type": "code",
      "source": [
        "import numpy as np\n",
        "from sklearn.metrics import classification_report, roc_auc_score\n",
        "\n",
        "# Get probabilities for class 1 (risk)\n",
        "y_proba = voting_clf.predict_proba(X_test_pca)[:, 1]\n",
        "\n",
        "# Try different thresholds\n",
        "for thresh in [0.5, 0.45, 0.4, 0.35, 0.3]:\n",
        "    y_pred_custom = (y_proba >= thresh).astype(int)\n",
        "    print(f\"\\n--- Threshold = {thresh} ---\")\n",
        "    print(classification_report(y_test, y_pred_custom, digits=3))\n",
        "    print(\"ROC-AUC:\", roc_auc_score(y_test, y_proba))\n"
      ],
      "metadata": {
        "colab": {
          "base_uri": "https://localhost:8080/"
        },
        "id": "TBsDWGlmIyzM",
        "outputId": "7e03a72a-c42d-4793-8c03-b8febf5f4e6b"
      },
      "execution_count": 63,
      "outputs": [
        {
          "output_type": "stream",
          "name": "stdout",
          "text": [
            "\n",
            "--- Threshold = 0.5 ---\n",
            "              precision    recall  f1-score   support\n",
            "\n",
            "           0      0.861     0.919     0.889     18676\n",
            "           1      0.668     0.524     0.587      5808\n",
            "\n",
            "    accuracy                          0.825     24484\n",
            "   macro avg      0.764     0.721     0.738     24484\n",
            "weighted avg      0.815     0.825     0.818     24484\n",
            "\n",
            "ROC-AUC: 0.8664135317229225\n",
            "\n",
            "--- Threshold = 0.45 ---\n",
            "              precision    recall  f1-score   support\n",
            "\n",
            "           0      0.885     0.874     0.879     18676\n",
            "           1      0.610     0.634     0.622      5808\n",
            "\n",
            "    accuracy                          0.817     24484\n",
            "   macro avg      0.747     0.754     0.750     24484\n",
            "weighted avg      0.820     0.817     0.818     24484\n",
            "\n",
            "ROC-AUC: 0.8664135317229225\n",
            "\n",
            "--- Threshold = 0.4 ---\n",
            "              precision    recall  f1-score   support\n",
            "\n",
            "           0      0.906     0.819     0.861     18676\n",
            "           1      0.556     0.728     0.631      5808\n",
            "\n",
            "    accuracy                          0.798     24484\n",
            "   macro avg      0.731     0.774     0.746     24484\n",
            "weighted avg      0.823     0.798     0.806     24484\n",
            "\n",
            "ROC-AUC: 0.8664135317229225\n",
            "\n",
            "--- Threshold = 0.35 ---\n",
            "              precision    recall  f1-score   support\n",
            "\n",
            "           0      0.929     0.750     0.830     18676\n",
            "           1      0.504     0.815     0.623      5808\n",
            "\n",
            "    accuracy                          0.766     24484\n",
            "   macro avg      0.716     0.783     0.726     24484\n",
            "weighted avg      0.828     0.766     0.781     24484\n",
            "\n",
            "ROC-AUC: 0.8664135317229225\n",
            "\n",
            "--- Threshold = 0.3 ---\n",
            "              precision    recall  f1-score   support\n",
            "\n",
            "           0      0.948     0.666     0.782     18676\n",
            "           1      0.451     0.883     0.597      5808\n",
            "\n",
            "    accuracy                          0.717     24484\n",
            "   macro avg      0.700     0.775     0.690     24484\n",
            "weighted avg      0.830     0.717     0.739     24484\n",
            "\n",
            "ROC-AUC: 0.8664135317229225\n"
          ]
        }
      ]
    },
    {
      "cell_type": "markdown",
      "source": [
        "✅ Interpretation\n",
        "\n",
        "ROC-AUC ranges from 0.5 (random guessing) → 1.0 (perfect model).\n",
        "\n",
        "Your model at 0.87 means it can correctly rank positive (risk = 1) vs negative (risk = 0) cases about 87% of the time"
      ],
      "metadata": {
        "id": "KMYgISx7MOOa"
      }
    },
    {
      "cell_type": "code",
      "execution_count": null,
      "metadata": {
        "id": "cwRzrnTSonsk"
      },
      "outputs": [],
      "source": [
        "# Save Best Model ===\n",
        "import joblib\n",
        "joblib.dump(rf_model, \"collision_rf_model.pkl\")\n",
        "joblib.dump(gb_model, \"collision_gb_model.pkl\")\n",
        "\n",
        "print(\"\\n✅ Models saved as collision_rf_model.pkl and collision_gb_model.pkl\")"
      ]
    },
    {
      "cell_type": "code",
      "execution_count": 65,
      "metadata": {
        "id": "cY0Br0qrodZV",
        "colab": {
          "base_uri": "https://localhost:8080/"
        },
        "outputId": "f222deba-07d3-4f75-b82a-2dd7e5a16d28"
      },
      "outputs": [
        {
          "output_type": "execute_result",
          "data": {
            "text/plain": [
              "['voting_model.pkl']"
            ]
          },
          "metadata": {},
          "execution_count": 65
        }
      ],
      "source": [
        "#savibg our model\n",
        "\n",
        "import joblib\n",
        "joblib.dump(y_proba, \"voting_model.pkl\")\n"
      ]
    },
    {
      "cell_type": "code",
      "execution_count": null,
      "metadata": {
        "id": "MeaTIAWWoddF"
      },
      "outputs": [],
      "source": []
    }
  ],
  "metadata": {
    "colab": {
      "provenance": [],
      "authorship_tag": "ABX9TyP4YZTJgZ83P8dz6KdY4JoN",
      "include_colab_link": true
    },
    "kernelspec": {
      "display_name": "Python 3",
      "name": "python3"
    },
    "language_info": {
      "name": "python"
    }
  },
  "nbformat": 4,
  "nbformat_minor": 0
}